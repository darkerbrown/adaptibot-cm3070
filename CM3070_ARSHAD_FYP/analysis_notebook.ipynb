{
 "cells": [
  {
   "cell_type": "markdown",
   "id": "3bcc83f3",
   "metadata": {},
   "source": [
    "# Analysis notebook\n",
    "\n",
    "This notebook loads `runs/metrics_aggregated.csv` and produces simple summary figures (rescued per run, median TTR). Use this as a starting point for paper figures."
   ]
  },
  {
   "cell_type": "code",
   "execution_count": null,
   "id": "c2047689",
   "metadata": {},
   "outputs": [],
   "source": [
    "import pandas as pd\n",
    "import matplotlib.pyplot as plt\n",
    "from pathlib import Path\n",
    "\n",
    "p = Path('runs') / 'metrics_aggregated.csv'\n",
    "if not p.exists():\n",
    "    print('No aggregated CSV found. Run scripts/aggregate_runs.py first.')\n",
    "else:\n",
    "    df = pd.read_csv(p)\n",
    "    display(df.head())\n",
    "    fig, ax = plt.subplots(1,2, figsize=(10,4))\n",
    "    if 'rescued' in df.columns:\n",
    "        ax[0].hist(df['rescued'].dropna(), bins=range(0,int(df['rescued'].max())+2), align='left')\n",
    "        ax[0].set_title('Rescued per run')\n",
    "    if 'ttr_median' in df.columns:\n",
    "        ax[1].hist(df['ttr_median'].dropna(), bins=20)\n",
    "        ax[1].set_title('Median time-to-rescue')\n",
    "    fig.tight_layout()\n",
    "    plt.show()"
   ]
  }
 ],
 "metadata": {
  "language_info": {
   "name": "python"
  }
 },
 "nbformat": 4,
 "nbformat_minor": 5
}
